{
 "cells": [
  {
   "cell_type": "code",
   "execution_count": 4,
   "id": "ef187615",
   "metadata": {},
   "outputs": [],
   "source": [
    "from tkinter import *\n",
    "import pyshorteners\n",
    "root = Tk()\n",
    "root.title('CodeClause | Task-1 - URL Shortner')\n",
    "root.geometry('500x500')\n",
    "root.config(background = \"#03001C\")  "
   ]
  },
  {
   "cell_type": "code",
   "execution_count": 5,
   "id": "538c3947",
   "metadata": {},
   "outputs": [],
   "source": [
    "#Main function\n",
    "def shorten():\n",
    "    if shorty.get():\n",
    "        shorty.delete(0, END)\n",
    "    if my_entry.get():\n",
    "        #Convert Url to Short\n",
    "        url = pyshorteners.Shortener().tinyurl.short(my_entry.get())\n",
    "        #Output to window\n",
    "        shorty.insert(END, url)\n",
    "\n",
    "my_label = Label(root, text=\"URL Shortner\",bg=\"#03001C\",fg=\"#F9D949\", font=(\"Helvetica\",34))\n",
    "my_label.pack(pady=30)\n",
    "\n",
    "my_entry = Entry(root, font=(\"Helvetica\",24))\n",
    "my_entry.pack(pady=20)\n",
    "\n",
    "my_btn = Button(root, command=shorten , text=\"Shorten Link\",bg=\"#4bd6f2\",font=(\"Helvetica\",24))\n",
    "my_btn.pack(pady=20)\n",
    "\n",
    "short_label = Label(root, text=\"Shortened Link\" ,fg=\"#fff\" ,bg=\"#03001C\", font=(\"Helvetica\",18))\n",
    "short_label.pack(pady=20)\n",
    "\n",
    "shorty = Entry(root, font=(\"Helvetica\",22),bg=\"#03001C\", fg=\"#F9D949\", justify=CENTER , width=30,bd=0)\n",
    "shorty.pack(pady=30)\n",
    "\n",
    "root.mainloop()"
   ]
  },
  {
   "cell_type": "code",
   "execution_count": null,
   "id": "e706837d",
   "metadata": {},
   "outputs": [],
   "source": []
  }
 ],
 "metadata": {
  "kernelspec": {
   "display_name": "Python 3",
   "language": "python",
   "name": "python3"
  },
  "language_info": {
   "codemirror_mode": {
    "name": "ipython",
    "version": 3
   },
   "file_extension": ".py",
   "mimetype": "text/x-python",
   "name": "python",
   "nbconvert_exporter": "python",
   "pygments_lexer": "ipython3",
   "version": "3.8.8"
  }
 },
 "nbformat": 4,
 "nbformat_minor": 5
}
